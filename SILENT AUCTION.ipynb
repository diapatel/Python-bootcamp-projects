{
 "cells": [
  {
   "cell_type": "code",
   "execution_count": null,
   "id": "f3d412fc",
   "metadata": {},
   "outputs": [],
   "source": []
  },
  {
   "cell_type": "code",
   "execution_count": null,
   "id": "2a078859",
   "metadata": {},
   "outputs": [],
   "source": [
    "import click"
   ]
  },
  {
   "cell_type": "code",
   "execution_count": null,
   "id": "279f6571",
   "metadata": {},
   "outputs": [],
   "source": [
    "from replit import clear\n",
    "\n",
    "logo = '''  ___________\n",
    "                         \\         /\n",
    "                          )_______(\n",
    "                          |\"\"\"\"\"\"\"|_.-._,.---------.,_.-._\n",
    "                          |       | | |               | | ''-.\n",
    "                          |       |_| |_             _| |_..-'\n",
    "                          |_______| '-' `'---------'` '-'\n",
    "                          )\"\"\"\"\"\"\"(\n",
    "                         /_________\\\n",
    "                         `'-------'`\n",
    "                       .-------------.\n",
    "                      /_______________\\\n",
    "'''\n",
    "\n",
    "\n",
    "print(logo)\n",
    "print('Welcome to the silent auction program.')\n",
    "\n",
    "more_players = True\n",
    "\n",
    "#creating an empty dictinary to store bidders and their biddings\n",
    "bidders_dictionary = {}\n",
    "\n",
    "while more_players == True:\n",
    "    #initializing a variable names to keep a count of the people bidding in auction\n",
    "    names = 0\n",
    "    name = input('What\\'s your name? ')\n",
    "    names += 1\n",
    "    bid = int(input(\"What's your bid? $\"))\n",
    "    \n",
    "    next_player = input(\"Are there any more players? Type yes or no. \").lower()\n",
    "    clear()\n",
    "    if next_player == 'no':\n",
    "        more_players = False\n",
    "    else:\n",
    "        clear()\n",
    "        \n",
    "        \n",
    "    #adding the bidders and bidding values to the bidders_dictionary\n",
    "    for i in range(names):\n",
    "        bidders_dictionary[name] = bid\n",
    "    \n",
    "        \n",
    "        \n",
    "#print(bidders_dictionary)\n",
    "\n",
    "#creating lists of dictionary keys and values separately\n",
    "keys_list = list(bidders_dictionary.keys())\n",
    "values_list = list(bidders_dictionary.values())\n",
    "\n",
    "#finding the max value from list of values\n",
    "maximum_value = max(values_list)\n",
    "\n",
    "#finding the index of maximum_value and assignign its key to the highest_bidder variable\n",
    "highest_bidder = keys_list[values_list.index(maximum_value)]\n",
    "\n",
    "print(f'The highest bidder is {highest_bidder.title()}!')\n",
    "        \n",
    "    \n",
    "    \n"
   ]
  },
  {
   "cell_type": "code",
   "execution_count": null,
   "id": "3d26fb5d",
   "metadata": {},
   "outputs": [],
   "source": []
  },
  {
   "cell_type": "code",
   "execution_count": null,
   "id": "ac301cd3",
   "metadata": {},
   "outputs": [],
   "source": []
  }
 ],
 "metadata": {
  "kernelspec": {
   "display_name": "Python 3 (ipykernel)",
   "language": "python",
   "name": "python3"
  },
  "language_info": {
   "codemirror_mode": {
    "name": "ipython",
    "version": 3
   },
   "file_extension": ".py",
   "mimetype": "text/x-python",
   "name": "python",
   "nbconvert_exporter": "python",
   "pygments_lexer": "ipython3",
   "version": "3.9.13"
  }
 },
 "nbformat": 4,
 "nbformat_minor": 5
}
