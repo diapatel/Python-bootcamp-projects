{
 "cells": [
  {
   "cell_type": "markdown",
   "id": "9629eb09",
   "metadata": {},
   "source": [
    "TIP CALCULATOR"
   ]
  },
  {
   "cell_type": "code",
   "execution_count": 13,
   "id": "c9c35cb9",
   "metadata": {},
   "outputs": [
    {
     "name": "stdout",
     "output_type": "stream",
     "text": [
      "Welcome to the tip calculator.\n",
      "What is the bill amount?\n",
      "$124.54\n",
      "How many people will split the bill? 5\n",
      "What percentage tip would you like to give? 10, 12 or 15?\n",
      "12\n",
      "Each person should pay: $27.89696\n"
     ]
    }
   ],
   "source": [
    "print('Welcome to the tip calculator.')\n",
    "\n",
    "bill = float(input(\"What is the bill amount?\\n$\"))\n",
    "number_of_people = int(input('How many people will split the bill? '))\n",
    "tip_percentage = int(input(\"What percentage tip would you like to give? 10, 12 or 15?\\n\"))\n",
    "\n",
    "total_amount_to_pay = bill + (tip_percentage/100 * bill)\n",
    "pay_per_person = total_amount_to_pay / number_of_people\n",
    "\n",
    "print(f'Each person should pay: ${pay_per_person}')"
   ]
  },
  {
   "cell_type": "code",
   "execution_count": null,
   "id": "ae31fbdf",
   "metadata": {},
   "outputs": [],
   "source": []
  }
 ],
 "metadata": {
  "kernelspec": {
   "display_name": "Python 3 (ipykernel)",
   "language": "python",
   "name": "python3"
  },
  "language_info": {
   "codemirror_mode": {
    "name": "ipython",
    "version": 3
   },
   "file_extension": ".py",
   "mimetype": "text/x-python",
   "name": "python",
   "nbconvert_exporter": "python",
   "pygments_lexer": "ipython3",
   "version": "3.9.13"
  }
 },
 "nbformat": 4,
 "nbformat_minor": 5
}
