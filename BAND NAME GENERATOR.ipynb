{
 "cells": [
  {
   "cell_type": "markdown",
   "id": "6ff4901a",
   "metadata": {},
   "source": [
    "THIS IS A BAND NAME GENERATOR.\n",
    "it asks the user for the name fo the city they grew up in and the name of a pet.\n",
    "then ti combines the two strings to generate a band name."
   ]
  },
  {
   "cell_type": "code",
   "execution_count": 4,
   "id": "c82e1e38",
   "metadata": {},
   "outputs": [
    {
     "name": "stdout",
     "output_type": "stream",
     "text": [
      "Hello, there! This is an innovative Band Name Genertor. Give it a go!\n",
      "Which city were you born in?\n",
      "chicago\n",
      "What would you like to name your pet?\n",
      "bruno\n",
      "Your band's name is Chicago Bruno!\n"
     ]
    }
   ],
   "source": [
    "greeting = print('Hello, there! This is an innovative Band Name Genertor. Give it a go!')\n",
    "\n",
    "city = input('Which city were you born in?\\n')\n",
    "petname = input('What would you like to name your pet?\\n')\n",
    "\n",
    "band_name = city + \" \" + petname\n",
    "\n",
    "print(f\"Your band's name is {band_name.title()}!\")"
   ]
  },
  {
   "cell_type": "code",
   "execution_count": null,
   "id": "5a61d93f",
   "metadata": {},
   "outputs": [],
   "source": []
  }
 ],
 "metadata": {
  "kernelspec": {
   "display_name": "Python 3 (ipykernel)",
   "language": "python",
   "name": "python3"
  },
  "language_info": {
   "codemirror_mode": {
    "name": "ipython",
    "version": 3
   },
   "file_extension": ".py",
   "mimetype": "text/x-python",
   "name": "python",
   "nbconvert_exporter": "python",
   "pygments_lexer": "ipython3",
   "version": "3.9.13"
  }
 },
 "nbformat": 4,
 "nbformat_minor": 5
}
