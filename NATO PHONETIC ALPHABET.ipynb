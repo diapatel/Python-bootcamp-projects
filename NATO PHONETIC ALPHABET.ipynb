{
 "cells": [
  {
   "cell_type": "code",
   "execution_count": null,
   "id": "b024ae7b",
   "metadata": {},
   "outputs": [],
   "source": []
  },
  {
   "cell_type": "code",
   "execution_count": 23,
   "id": "6220942e",
   "metadata": {},
   "outputs": [
    {
     "data": {
      "text/plain": [
       "{'A': 'Alfa',\n",
       " 'B': 'Bravo',\n",
       " 'C': 'Charlie',\n",
       " 'D': 'Delta',\n",
       " 'E': 'Echo',\n",
       " 'F': 'Foxtrot',\n",
       " 'G': 'Golf',\n",
       " 'H': 'Hotel',\n",
       " 'I': 'India',\n",
       " 'J': 'Juliet',\n",
       " 'K': 'Kilo',\n",
       " 'L': 'Lima',\n",
       " 'M': 'Mike',\n",
       " 'N': 'November',\n",
       " 'O': 'Oscar',\n",
       " 'P': 'Papa',\n",
       " 'Q': 'Quebec',\n",
       " 'R': 'Romeo',\n",
       " 'S': 'Sierra',\n",
       " 'T': 'Tango',\n",
       " 'U': 'Uniform',\n",
       " 'V': 'Victor',\n",
       " 'W': 'Whiskey',\n",
       " 'X': 'X-ray',\n",
       " 'Y': 'Yankee',\n",
       " 'Z': 'Zul'}"
      ]
     },
     "execution_count": 23,
     "metadata": {},
     "output_type": "execute_result"
    }
   ],
   "source": [
    "#reading the data of the csv file\n",
    "\n",
    "with open(r\"C:\\Users\\Rakesh\\Downloads\\nato_phonetic_alphabet.csv\") as f:\n",
    "    data = f.readlines()\n",
    "\n",
    "cleaned_data = []\n",
    "for i in data:\n",
    "    new_str = i[:-1]\n",
    "    cleaned_data.append(new_str)\n",
    "\n",
    "cleaned_data.remove(cleaned_data[0])\n",
    "phonetic_dict = {i[0]:i[2:] for i in cleaned_data}\n",
    "phonetic_dict"
   ]
  },
  {
   "cell_type": "code",
   "execution_count": 24,
   "id": "1ce5e176",
   "metadata": {},
   "outputs": [
    {
     "name": "stdout",
     "output_type": "stream",
     "text": [
      "Enter a word:  rose\n",
      "['Romeo', 'Oscar', 'Sierra', 'Echo']\n"
     ]
    }
   ],
   "source": [
    "word = input(\"Enter a word:  \")\n",
    "list_of_chars = [char.upper() for char in word]\n",
    "code = [phonetic_dict[char] for char in list_of_chars]\n",
    "print(code)"
   ]
  },
  {
   "cell_type": "code",
   "execution_count": null,
   "id": "b3c244a0",
   "metadata": {},
   "outputs": [],
   "source": []
  }
 ],
 "metadata": {
  "kernelspec": {
   "display_name": "Python 3 (ipykernel)",
   "language": "python",
   "name": "python3"
  },
  "language_info": {
   "codemirror_mode": {
    "name": "ipython",
    "version": 3
   },
   "file_extension": ".py",
   "mimetype": "text/x-python",
   "name": "python",
   "nbconvert_exporter": "python",
   "pygments_lexer": "ipython3",
   "version": "3.9.13"
  }
 },
 "nbformat": 4,
 "nbformat_minor": 5
}
