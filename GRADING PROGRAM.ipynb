{
 "cells": [
  {
   "cell_type": "code",
   "execution_count": null,
   "id": "7f3ad9bd",
   "metadata": {},
   "outputs": [],
   "source": []
  },
  {
   "cell_type": "code",
   "execution_count": null,
   "id": "81d81ea4",
   "metadata": {},
   "outputs": [],
   "source": []
  },
  {
   "cell_type": "code",
   "execution_count": null,
   "id": "cb084668",
   "metadata": {},
   "outputs": [],
   "source": [
    "student_scores = {\n",
    "    \"Harry\" : 81,\n",
    "    \"Ron\" : 78,\n",
    "    \"Hermione\" : 99,\n",
    "    \"Draco\" : 74,\n",
    "    \"Neville\" : 62,\n",
    "}\n",
    "\n",
    "student_grades = {}\n",
    "\n",
    "#scores to grades\n",
    "\n",
    "for student in student_scores:\n",
    "    score = student_scores[student]\n",
    "    \n",
    "    if 91 <= score <= 100:\n",
    "        student_grades[student] = \"Outstanding\"\n",
    "        \n",
    "    elif 81 <= score <= 90:\n",
    "        student_grades[student] = 'Exceeds Expectations'\n",
    "        \n",
    "    elif 71 <= score <= 80:\n",
    "        student_grades[student] = \"Acceptable\"\n",
    "        \n",
    "    else:\n",
    "        student_grades[student] = 'Fail'\n",
    "    \n",
    "print(student_grades)"
   ]
  }
 ],
 "metadata": {
  "kernelspec": {
   "display_name": "Python 3 (ipykernel)",
   "language": "python",
   "name": "python3"
  },
  "language_info": {
   "codemirror_mode": {
    "name": "ipython",
    "version": 3
   },
   "file_extension": ".py",
   "mimetype": "text/x-python",
   "name": "python",
   "nbconvert_exporter": "python",
   "pygments_lexer": "ipython3",
   "version": "3.9.13"
  }
 },
 "nbformat": 4,
 "nbformat_minor": 5
}
