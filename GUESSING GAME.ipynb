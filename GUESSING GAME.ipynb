{
 "cells": [
  {
   "cell_type": "code",
   "execution_count": null,
   "id": "09e45a3b",
   "metadata": {},
   "outputs": [],
   "source": [
    "`"
   ]
  },
  {
   "cell_type": "code",
   "execution_count": null,
   "id": "ec8e7ce5",
   "metadata": {},
   "outputs": [],
   "source": []
  },
  {
   "cell_type": "code",
   "execution_count": null,
   "id": "9efac8ea",
   "metadata": {},
   "outputs": [
    {
     "name": "stdout",
     "output_type": "stream",
     "text": [
      "  _______  __    __   _______     _______.     _______.   .___________. __    __   _______    .__   __.  __    __  .___  ___. .______    _______ .______      \n",
      " /  _____||  |  |  | |   ____|   /       |    /       |   |           ||  |  |  | |   ____|   |  \\ |  | |  |  |  | |   \\/   | |   _  \\  |   ____||   _  \\     \n",
      "|  |  __  |  |  |  | |  |__     |   (----`   |   (----`   `---|  |----`|  |__|  | |  |__      |   \\|  | |  |  |  | |  \\  /  | |  |_)  | |  |__   |  |_)  |    \n",
      "|  | |_ | |  |  |  | |   __|     \\   \\        \\   \\           |  |     |   __   | |   __|     |  . `  | |  |  |  | |  |\\/|  | |   _  <  |   __|  |      /     \n",
      "|  |__| | |  `--'  | |  |____.----)   |   .----)   |          |  |     |  |  |  | |  |____    |  |\\   | |  `--'  | |  |  |  | |  |_)  | |  |____ |  |\\  \\----.\n",
      " \\______|  \\______/  |_______|_______/    |_______/           |__|     |__|  |__| |_______|   |__| \\__|  \\______/  |__|  |__| |______/  |_______|| _| `._____|\n",
      "                                                                                                                                                              \n",
      "                             \n",
      "    \n",
      "\n"
     ]
    }
   ],
   "source": [
    "import random\n",
    "\n",
    "logo = '''  ^~^  ,                            \n",
    " ('Y') )                            \n",
    " /   \\/  NUMBER GUESSING GAME  __QQ \n",
    "(\\|||/)                       (_)_\">\n",
    "                             /      \n",
    "                             \n",
    "    \n",
    "'''\n",
    "\n",
    "print(logo)\n",
    "answer = random.randint(1,100)\n",
    "#print(answer)\n",
    "\n",
    "difficulty_level = input('Choose a difficulty level. Type easy or hard. ').lower()\n",
    "number_of_attempts = 0\n",
    "#should_continue = True\n",
    "\n",
    "\n",
    "def main(mode):\n",
    "    should_continue = True\n",
    "    \n",
    "    \n",
    "    if difficulty_level == 'easy':\n",
    "        number_of_attempts = 10\n",
    "    else:\n",
    "        number_of_attempts = 5\n",
    "\n",
    "\n",
    "    while should_continue:\n",
    "        guess = int(input('Guess a number: '))\n",
    "\n",
    "        if guess > answer:\n",
    "            print('Too high.\\nGuess again.')\n",
    "\n",
    "        elif guess < answer:\n",
    "            print('Too low.\\nGuess again.')\n",
    "            \n",
    "        elif number_of_attempts == 0:\n",
    "            should_continue == False\n",
    "            print('YOU LOSE!')\n",
    "            break\n",
    "\n",
    "        else:\n",
    "            print('YOU GOT IT!')\n",
    "            should_continue = False\n",
    "\n",
    "        number_of_attempts-= 1\n",
    "        print(f\"You have {number_of_attempts} attempts left.\")\n",
    "        \n",
    "        if number_of_attempts == 0:\n",
    "            should_continue == False\n",
    "            print('YOU LOSE!')\n",
    "\n",
    "            break\n",
    "        \n",
    "        \n",
    "main(mode = difficulty_level)"
   ]
  },
  {
   "cell_type": "code",
   "execution_count": null,
   "id": "cb30d51e",
   "metadata": {},
   "outputs": [],
   "source": []
  }
 ],
 "metadata": {
  "kernelspec": {
   "display_name": "Python 3 (ipykernel)",
   "language": "python",
   "name": "python3"
  },
  "language_info": {
   "codemirror_mode": {
    "name": "ipython",
    "version": 3
   },
   "file_extension": ".py",
   "mimetype": "text/x-python",
   "name": "python",
   "nbconvert_exporter": "python",
   "pygments_lexer": "ipython3",
   "version": "3.9.13"
  }
 },
 "nbformat": 4,
 "nbformat_minor": 5
}
