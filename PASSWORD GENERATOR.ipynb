{
 "cells": [
  {
   "cell_type": "markdown",
   "id": "e468ad3a",
   "metadata": {},
   "source": [
    "This password generator asks the user for the number of letters, digits and symbols they want in their password and then creates a password."
   ]
  },
  {
   "cell_type": "code",
   "execution_count": null,
   "id": "a4d49cc8",
   "metadata": {},
   "outputs": [],
   "source": []
  },
  {
   "cell_type": "code",
   "execution_count": 5,
   "id": "4ad51ae6",
   "metadata": {},
   "outputs": [
    {
     "name": "stdout",
     "output_type": "stream",
     "text": [
      "How many letters do you want?\n",
      "2\n",
      "How many digits do you want?\n",
      "2\n",
      "How many symbols do you want?\n",
      "2\n",
      "#x7s$1\n"
     ]
    }
   ],
   "source": [
    "import random\n",
    "\n",
    "letters = ['a', 'b', 'c', 'd', 'e', 'f', 'g', 'h', 'i', 'j', 'k', 'l', 'm', 'n', 'o', 'p', 'q', 'r',\n",
    "           's', 't', 'u', 'v', 'w', 'x', 'y', 'z', 'A', 'B', 'C', 'D', 'E', 'F', 'G', 'H', 'I', 'J',\n",
    "           'K', 'L', 'M', 'N', 'O', 'P', 'Q', 'R', 'S', 'T', 'U', 'V', 'W', 'X', 'Y', 'Z']\n",
    "digits = ['0', '1', '2', '3', '4', '5', '6', '7', '8', '9']\n",
    "symbols = ['!', '#', '$', '%', '&', '(', ')', '*', '+']\n",
    "\n",
    "\n",
    "#asking for the number of letters, digits and symbols the user wants in their password\n",
    "nr_letters = int(input('How many letters do you want?\\n'))\n",
    "nr_digits = int(input('How many digits do you want?\\n'))\n",
    "nr_symbols = int(input('How many symbols do you want?\\n'))\n",
    "\n",
    "#creating an empty list called password_items to store the list of characters chosen to form teh password\n",
    "password_items = []\n",
    "\n",
    "\n",
    "#looping through the lists to randomly choose the desired number of characters\n",
    "#the chosen characters are added to password_items list\n",
    "\n",
    "for _ in range(nr_letters):\n",
    "    chosen_letters = random.choice(letters)\n",
    "    password_items += chosen_letters\n",
    "    \n",
    "for _ in range(nr_digits):\n",
    "    chosen_digits = random.choice(digits)\n",
    "    password_items += chosen_digits\n",
    "    \n",
    "for _ in range(nr_symbols):\n",
    "    chosen_symbols = random.choice(symbols)\n",
    "    password_items += chosen_symbols\n",
    "    \n",
    "\n",
    "#shuffling the items in the password_items list\n",
    "#random.sample() is used because it will create a new list with randomly ordered items of password_items\n",
    "#random.sample(iterable, k) - k is the number of items to be randomly selected\n",
    "#if items of the entire list are to be randomly ordered, pass in k as len(iterable)\n",
    "\n",
    "#whereas random.shuffle() randomises the items in-place\n",
    "    \n",
    "random_password_items = random.sample(password_items, len(password_items))\n",
    "\n",
    "password = ''.join(random_password_items)\n",
    "\n",
    "print(password)\n",
    "\n",
    "    \n"
   ]
  },
  {
   "cell_type": "code",
   "execution_count": null,
   "id": "79d2b6a2",
   "metadata": {},
   "outputs": [],
   "source": []
  }
 ],
 "metadata": {
  "kernelspec": {
   "display_name": "Python 3 (ipykernel)",
   "language": "python",
   "name": "python3"
  },
  "language_info": {
   "codemirror_mode": {
    "name": "ipython",
    "version": 3
   },
   "file_extension": ".py",
   "mimetype": "text/x-python",
   "name": "python",
   "nbconvert_exporter": "python",
   "pygments_lexer": "ipython3",
   "version": "3.9.13"
  }
 },
 "nbformat": 4,
 "nbformat_minor": 5
}
